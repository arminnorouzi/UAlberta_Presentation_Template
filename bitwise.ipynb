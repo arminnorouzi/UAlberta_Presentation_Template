{
  "cells": [
    {
      "cell_type": "markdown",
      "metadata": {
        "id": "view-in-github",
        "colab_type": "text"
      },
      "source": [
        "<a href=\"https://colab.research.google.com/github/arminnorouzi/UAlberta_Presentation_Template/blob/master/bitwise.ipynb\" target=\"_parent\"><img src=\"https://colab.research.google.com/assets/colab-badge.svg\" alt=\"Open In Colab\"/></a>"
      ]
    },
    {
      "cell_type": "markdown",
      "metadata": {
        "id": "SrJ1AjpNmJET"
      },
      "source": [
        "# Bitwise Algorithms\n",
        "**by Armin Norouzi**\n",
        "\n",
        "In this notebook, we will examine numerous bitwise algorithms and how they are used in software engineering and computer science. We will go over the key ideas and methods that each software engineer should be familiar with, from bit manipulation techniques to optimization tactics. Prepare yourself to enter the realm of bits and bytes!"
      ]
    },
    {
      "cell_type": "markdown",
      "metadata": {
        "id": "07_jy3NBmNPP"
      },
      "source": [
        "## Bitwise operations in Python \n",
        "\n",
        "Bitwise operations are a group of elementary operations that deal with a binary number's constituent bits. These operations include left shift, right shift, bitwise AND, OR, XOR, and NOT. These operations are used to efficiently manipulate bits at the bit level and can be applied to tasks like determining whether a particular bit is set or clearing a particular bit. Bitwise operations are particularly useful in low-level languages such as C and C++, but are also available in high-level languages such as Python. Here is the operator of bit manipulation in Python:"
      ]
    },
    {
      "cell_type": "markdown",
      "metadata": {
        "id": "zKoZhuwTmRqD"
      },
      "source": [
        "\n",
        "| OPERATOR | DESCRIPTION       | RETURNS |\n",
        "| -------  | ----------- | ------------|\n",
        "| &        | Bitwise AND | Returns 1 if both the bits are 1 else 0 \n",
        "| $|$      | Bitwise OR  | Returns 1 if either of the bit is 1 else 0 \n",
        "| ~        | Bitwise NOT | Returns one’s complement of the number\n",
        "| ^        | Bitwise XOR | Returns 1 if one of the bits is 1 and the other is 0 else returns 0\n",
        "| >>       | Bitwise right shift | Returns 1 if both the bits are 1 else 0 \n",
        "| <<       | Bitwise left shift | Returns 1 if both the bits are 1 else 0  \n"
      ]
    },
    {
      "cell_type": "markdown",
      "metadata": {
        "id": "Kly-YqOh27OE"
      },
      "source": [
        "**Examples**"
      ]
    },
    {
      "cell_type": "markdown",
      "metadata": {
        "id": "4m_eVNHzvyWw"
      },
      "source": [
        "* Bitwise AND:\n",
        "\n",
        "```\n",
        "a = 10 = 1010 (Binary)\n",
        "b = 4 =  0100 (Binary)\n",
        "\n",
        "a & b = 1010\n",
        "         &\n",
        "        0100\n",
        "      = 0000\n",
        "      = 0 (Decimal)\n",
        "```\n",
        "\n",
        "* Bitwise OR:\n",
        "\n",
        "```\n",
        "a = 10 = 1010 (Binary)\n",
        "b = 4 =  0100 (Binary)\n",
        "\n",
        "a | b = 1010\n",
        "         |\n",
        "        0100\n",
        "      = 1110\n",
        "      = 14 (Decimal)\n",
        "```\n",
        "\n",
        "* Bitwise NOT:\n",
        "\n",
        "```\n",
        "a = 10 = 1010 (Binary)\n",
        "\n",
        "~a = ~1010\n",
        "   = -(1010 + 1)\n",
        "   = -(1011)\n",
        "   = -11 (Decimal)\n",
        "```\n",
        "\n",
        "* Bitwise XOR:\n",
        "\n",
        "```\n",
        "a = 10 = 1010 (Binary)\n",
        "b = 4 =  0100 (Binary)\n",
        "\n",
        "a ^ b = 1010\n",
        "         ^\n",
        "        0100\n",
        "      = 1110\n",
        "      = 14 (Decimal)\n",
        "```"
      ]
    },
    {
      "cell_type": "markdown",
      "metadata": {
        "id": "xu3qt0GFwiFm"
      },
      "source": [
        "* Bitwise right shift: \n",
        "\n",
        "Shifts the bits of the number to the right and fills 0 on voids left( fills 1 in the case of a negative number) as a result. Similar effect as of dividing the number with some power of two.\n",
        "\n",
        "\n",
        "``` \n",
        "Example 1:\n",
        "a = 10 = 0000 1010 (Binary)\n",
        "a >> 1 = 0000 0101 = 5\n",
        "\n",
        "Example 2:\n",
        "a = -10 = 1111 0110 (Binary)\n",
        "a >> 1 = 1111 1011 = -5 \n",
        "```\n",
        "\n",
        "* Bitwise left shift: \n",
        "\n",
        "Shifts the bits of the number to the left and fills 0 on voids right as a result. Similar effect as of multiplying the number with some power of two.\n",
        "\n",
        "\n",
        "```\n",
        "Example 1:\n",
        "a = 5 = 0000 0101 (Binary)\n",
        "a << 1 = 0000 1010 = 10\n",
        "a << 2 = 0001 0100 = 20 \n",
        "\n",
        "Example 2:\n",
        "b = -10 = 1111 0110 (Binary)\n",
        "b << 1 = 1110 1100 = -20\n",
        "b << 2 = 1101 1000 = -40 \n",
        "```\n",
        "\n"
      ]
    },
    {
      "cell_type": "markdown",
      "metadata": {
        "id": "_HtD_z1KNM8K"
      },
      "source": [
        "## 1. Find $n^{th}$ magic number\n",
        "\n",
        "**Question**\n",
        "\n",
        "A \"magic number\" is a number that has a specific mathematical property. A magic number is defined as a number that can be expressed as a power of 5 or the sum of unique powers of 5. \n",
        "\n",
        "For example, the first few magic numbers are 5, 25, 30 (5 + 25), 125, 130 (125 + 5), and so on. The number 5 is a magic number because it is a power of 5 (5^1). The number 25 is also a magic number because it is a power of 5 (5^2). The number 30 is a magic number because it is the sum of unique powers of 5 (5^1 + 5^2). See the table for more detail. "
      ]
    },
    {
      "cell_type": "markdown",
      "metadata": {
        "id": "TDkRjgIMOEB8"
      },
      "source": [
        "\n",
        "| N                    | DESCRIPTION       |\n",
        "| -------              | ----------- | \n",
        "| N = 1  -- > 001      | 5 = 1 * 5^1 |\n",
        "| N = 2  -- > 010      | 25 = 1 * 5^2  |\n",
        "| N = 3  -- > 011      | 30 = 1 * 5^2 + 1 * 5^1 | \n",
        "| N = 4  -- > 100      | 125 = 1 * 5^3 | \n",
        "| N = 5  -- > 101      | 130 = 1 * 5^3 + 1 * 5^1 | \n",
        "\n",
        "Write a function to find the nth Magic number.\n",
        "\n",
        "**Code**"
      ]
    },
    {
      "cell_type": "code",
      "execution_count": 9,
      "metadata": {
        "id": "kt2UU_9KrblD"
      },
      "outputs": [],
      "source": [
        "def nth_magic_number(n: int) -> int:\n",
        "    \"\"\"\n",
        "    Finds the nth magic number. A magic number is defined as a number \n",
        "    which can be expressed as a power of 5 or sum of unique powers of 5.\n",
        "    \"\"\"\n",
        "    pow_of_5 = 1\n",
        "    magic_number = 0\n",
        "\n",
        "    # Go through every bit of n\n",
        "    while n:\n",
        "        pow_of_5 *= 5\n",
        "\n",
        "         # If last bit of n is set\n",
        "        if n & 1:\n",
        "            magic_number += pow_of_5\n",
        "\n",
        "        # proceed to next bit\n",
        "        n >>= 1\n",
        "    return magic_number\n",
        "\n"
      ]
    },
    {
      "cell_type": "markdown",
      "metadata": {
        "id": "mQdLP_FZ27OJ"
      },
      "source": [
        "**Explanation**\n",
        "\n",
        "The function finds the magic number by utilizing bit manipulation and a mathematical property of magic numbers.\n",
        "\n",
        "The function starts by setting two variables, `pow` and `answer` to 1. The variable `pow` is used to keep track of the current power of 5, and `answer` is used to store the final magic number.\n",
        "\n",
        "The function then enters a `while` loop that runs as long as the value of `n` is greater than 0. Inside the while loop, `pow` is multiplied by 5 on each iteration. This is done to calculate the next power of 5.\n",
        "\n",
        "If the last bit of n is set (i.e. if n & 1 evaluates to True), the current power of 5 stored in `pow` is added to the answer variable.\n",
        "\n",
        "The last step of each iteration is to proceed to the next bit of `n` by using the bitwise right shift operator `n >>= 1` (or n = n/2). This effectively divides `n` by 2 and discards the least significant bit.\n",
        "\n",
        "When the while loop finishes, the final magic number is stored in the `answer` variable, and the function returns it.\n",
        "\n",
        "The time complexity of this function is `O(log(n))` because the while loop runs for `log(n)` times. This is because for each iteration, it is checking the next bit of n, which doubles the number of bits being checked. The space complexity is `O(1)` because the function only uses a constant amount of space, regardless of the input size.\n",
        "\n",
        "**Test**"
      ]
    },
    {
      "cell_type": "code",
      "execution_count": 10,
      "metadata": {
        "id": "An3nrNqO27OK",
        "outputId": "d7027ee5-cb77-4f69-e2e5-856025eb43c6",
        "colab": {
          "base_uri": "https://localhost:8080/"
        }
      },
      "outputs": [
        {
          "output_type": "stream",
          "name": "stderr",
          "text": [
            "test_CountBits (__main__.TestCountBits) ... ok\n",
            "test_decToBin (__main__.TestDecToBin) ... ok\n",
            "test_decToBin_negative (__main__.TestDecToBin) ... ok\n",
            "test_nth_magic_number (__main__.TestNthMagicNumber) ... ok\n",
            "test_swap_bits (__main__.TestSwapBits) ... ok\n",
            "\n",
            "----------------------------------------------------------------------\n",
            "Ran 5 tests in 0.021s\n",
            "\n",
            "OK\n"
          ]
        }
      ],
      "source": [
        "import unittest\n",
        "\n",
        "class TestNthMagicNumber(unittest.TestCase):\n",
        "\n",
        "    def test_nth_magic_number(self):\n",
        "        self.assertEqual(nth_magic_number(1), 5)\n",
        "        self.assertEqual(nth_magic_number(2), 25)\n",
        "        self.assertEqual(nth_magic_number(3), 30)\n",
        "        self.assertEqual(nth_magic_number(4), 125)\n",
        "        self.assertEqual(nth_magic_number(5), 130)\n",
        "\n",
        "res = unittest.main(argv=[''], verbosity=3, exit=False)\n",
        "assert len(res.result.failures) == 0"
      ]
    },
    {
      "cell_type": "markdown",
      "metadata": {
        "id": "45yIrbsbU8SP"
      },
      "source": [
        "## 2. Swap all odd and even bits"
      ]
    },
    {
      "cell_type": "markdown",
      "metadata": {
        "id": "NwfxXLCuVAwD"
      },
      "source": [
        "**Question**\n",
        "\n",
        "Given an unsigned integer N. The task is to swap all odd bits with adjacent even bits.\n",
        "\n",
        "Examples: \n",
        "```\n",
        "Input: 23\n",
        "Output: 43\n",
        "Explanation: 23 (00010111) should be converted to 43 (00101011).\n",
        "```"
      ]
    },
    {
      "cell_type": "markdown",
      "metadata": {
        "id": "VghhrOi727OM"
      },
      "source": [
        "**Code**"
      ]
    },
    {
      "cell_type": "code",
      "execution_count": 11,
      "metadata": {
        "id": "0e3weWldPwEB"
      },
      "outputs": [],
      "source": [
        "def swap_bits(x: int) -> int:\n",
        "    \"\"\"\n",
        "    Swaps the even and odd bits of a given number.\n",
        "    \"\"\"\n",
        "    # Get all even bits of x\n",
        "    even_bits = x & 0xAAAAAAAA\n",
        "    # Get all odd bits of x\n",
        "    odd_bits = x & 0x55555555\n",
        "    # Right shift even bits\n",
        "    even_bits >>= 1\n",
        "    # Left shift odd bits\n",
        "    odd_bits <<= 1\n",
        "    # Combine even and odd bits\n",
        "    return (even_bits | odd_bits)"
      ]
    },
    {
      "cell_type": "markdown",
      "metadata": {
        "id": "BDNlBOSc27ON"
      },
      "source": [
        "**Explanation**\n",
        "\n",
        "The above code is a Python function that takes an integer `x` as input and returns an integer that is obtained by swapping the even and odd bits of the input number `x`.\n",
        "\n",
        "The function starts by using bitwise AND operator `&` to extract the even bits and the odd bits of the input number `x`. It creates two 32-bit numbers, `0xAAAAAAAA` and `0x55555555`, to represent all even bits set as 1 and all odd bits set as 0 and vice-versa.\n",
        "\n",
        "It then uses the bitwise AND operator `&` with the input number `x` to extract the even and odd bits respectively.\n",
        "\n",
        "Next, the function uses the right shift operator `>>=` to shift the even bits to the right by one position, effectively swapping the even bits with their next odd bit. Similarly, it uses the left shift operator `<<=` to shift the odd bits to the left by one position, effectively swapping the odd bits with their next even bit.\n",
        "\n",
        "Finally, the function uses the bitwise OR operator `|` to combine the even bits and the odd bits and returns the resulting integer.\n",
        "\n",
        "This function can be used to swap the even and odd bits of any 32-bit integer, while keeping the time and space complexity of the function `O(1)`"
      ]
    },
    {
      "cell_type": "code",
      "execution_count": 12,
      "metadata": {
        "colab": {
          "base_uri": "https://localhost:8080/"
        },
        "id": "mKmP-z65VmPx",
        "outputId": "ad18f0ac-c47e-4232-a50d-0da8ead4cda7"
      },
      "outputs": [
        {
          "output_type": "stream",
          "name": "stderr",
          "text": [
            "test_CountBits (__main__.TestCountBits) ... ok\n",
            "test_decToBin (__main__.TestDecToBin) ... ok\n",
            "test_decToBin_negative (__main__.TestDecToBin) ... ok\n",
            "test_nth_magic_number (__main__.TestNthMagicNumber) ... ok\n",
            "test_swap_bits (__main__.TestSwapBits) ... ok\n",
            "\n",
            "----------------------------------------------------------------------\n",
            "Ran 5 tests in 0.010s\n",
            "\n",
            "OK\n"
          ]
        }
      ],
      "source": [
        "import unittest\n",
        "class TestSwapBits(unittest.TestCase):\n",
        "    def test_swap_bits(self):\n",
        "        self.assertEqual(swap_bits(23), 43)\n",
        "\n",
        "res = unittest.main(argv=[''], verbosity=3, exit=False)\n",
        "assert len(res.result.failures) == 0"
      ]
    },
    {
      "cell_type": "markdown",
      "metadata": {
        "id": "2yKN3A2TbwZ3"
      },
      "source": [
        "```\n",
        "even_bite: \n",
        "\n",
        "23 = 00010111\n",
        "\n",
        "23 &  0xAAAAAAAA:\n",
        "\n",
        "        00010111\n",
        "      & 10101010\n",
        "      = 00000010 ---> 2\n",
        "\n",
        "\n",
        "even_bits >>= 1:\n",
        "\n",
        "      = 00000001 ---> 1\n",
        "\n",
        "odd_bits: \n",
        "\n",
        "23 &  0x55555555:\n",
        "\n",
        "        00010111\n",
        "      & 01010101\n",
        "      = 00010101 ---> 21\n",
        "\n",
        "odd_bits <<= 1:\n",
        "\n",
        "      = 00101010 ---> 42\n",
        "\n",
        "\n",
        "return: \n",
        "        00000001\n",
        "      | 00101010\n",
        "      = 00101011 ---> 43\n",
        "```"
      ]
    },
    {
      "cell_type": "markdown",
      "metadata": {
        "id": "lYPM9rbO_Anx"
      },
      "source": [
        "## 3. Binary representation of a given number\n",
        "\n",
        "**Question**\n",
        "\n",
        "Binary representation of a given number is a way to represent a decimal number (base 10) in the binary system (base 2). In the binary system, only two digits are used: 0 and 1. Each digit in a binary number represents a power of 2, with the rightmost digit representing 2^0 (1) and each digit to the left representing the next power of 2.\n",
        "\n",
        "For example, the decimal number 8 can be represented in binary as 1000. This is because 8 = 12^3. Similarly, the decimal number 11 can be represented in binary as 1011. This is because 11 = 12^3 + 02^2 + 12^1 + 1*2^0.\n",
        "\n",
        "Write a function to return binary representation of a number\n",
        "\n",
        "**Code**"
      ]
    },
    {
      "cell_type": "code",
      "execution_count": 13,
      "metadata": {
        "id": "hd30Rj4dVr-S"
      },
      "outputs": [],
      "source": [
        "def dec_to_bin(n: int) -> str:\n",
        "    \"\"\"\n",
        "    Convert decimal number to binary representation.\n",
        "    \"\"\"\n",
        "    result = []\n",
        "\n",
        "    # Start from 31th bite by shifting one to\n",
        "    i = 1 << 31\n",
        "    while i > 0:\n",
        "\n",
        "        # check whether 31th bit is ON or OFF, if it is ON print “1” else print “0”\n",
        "        # if  n & i >= 1 means 31th bit is ON (1) else 0th bit is OFF\n",
        "        if n & i >= 1:\n",
        "            result.append(\"1\")\n",
        "        else:\n",
        "            result.append(\"0\")\n",
        "        \n",
        "        # Go to 30th bit and keep while loop until i == 0\n",
        "        i = i // 2\n",
        "    return \"\".join(result)\n"
      ]
    },
    {
      "cell_type": "markdown",
      "metadata": {
        "id": "cxQH66O-27OP"
      },
      "source": [
        "**Explanation**\n",
        "\n",
        "The above code defines a function `dec_to_bin(n: int) -> str` that converts a decimal number to its binary representation. The function takes a single argument n which is an integer, and returns a string containing the binary representation of the input number.\n",
        "\n",
        "The function starts by initializing an empty list called result and a variable i as `1 << 31`. The variable `i` is used to check each bit of the decimal number, starting from the leftmost (most significant) bit. The left shift operator `<<` is used to shift the value of 1 to the 31th position (i = 10000000000000000000000000000000 in binary) so that it can be used to check the 31th bit of the decimal number.\n",
        "\n",
        "The function then enters a while loop which will continue until i becomes 0. Inside the while loop, the function uses the bitwise operator `&` to check whether the 31th bit of the decimal number is ON or OFF. The expression `n & i >= 1` checks whether the result of the bitwise `&` operator is greater than or equal to 1, which means that the 31th bit is ON. If the condition is true, the function appends \"1\" to the result list. If the condition is false, the function appends \"0\" to the result list instead.\n",
        "\n",
        "After that, the function divides `i` by 2 using `i = i // 2` to move to the next bit (30th bit) and continues the loop until `i` becomes `0`.\n",
        "\n",
        "Finally, the function uses the `join()` method to join all the elements of the result list and return a string containing the binary representation of the input number.\n",
        "\n",
        "The time complexity is `O(log(n))`, where `n` is the decimal number being converted. This is because the while loop iterates `log2(n)` times.\n",
        "\n",
        "In each iteration, the function performs a bitwise operation and a comparison operation, both of which have a constant time complexity of O(1). Therefore, the overall time complexity is `O(log(n))`.\n",
        "\n",
        "The space complexity is `O(log(n))` as well, as it creates a list of size log2(n) to store the binary digits of the input number. The space complexity of creating the list is `O(log(n))`.\n",
        "\n",
        "**Test**"
      ]
    },
    {
      "cell_type": "code",
      "execution_count": 14,
      "metadata": {
        "colab": {
          "base_uri": "https://localhost:8080/"
        },
        "id": "_xhPyfwn_ehE",
        "outputId": "c9f19ff8-4c37-4a38-912e-8ccf9c69efd1"
      },
      "outputs": [
        {
          "output_type": "stream",
          "name": "stderr",
          "text": [
            "test_CountBits (__main__.TestCountBits) ... ok\n",
            "test_decToBin (__main__.TestDecToBin) ... ok\n",
            "test_decToBin_negative (__main__.TestDecToBin) ... ok\n",
            "test_nth_magic_number (__main__.TestNthMagicNumber) ... ok\n",
            "test_swap_bits (__main__.TestSwapBits) ... ok\n",
            "\n",
            "----------------------------------------------------------------------\n",
            "Ran 5 tests in 0.013s\n",
            "\n",
            "OK\n"
          ]
        }
      ],
      "source": [
        "\n",
        "class TestDecToBin(unittest.TestCase):\n",
        "    def test_decToBin(self):\n",
        "        self.assertEqual(dec_to_bin(5), \"00000000000000000000000000000101\")\n",
        "        self.assertEqual(dec_to_bin(10), \"00000000000000000000000000001010\")\n",
        "        self.assertEqual(dec_to_bin(100), \"00000000000000000000000001100100\")\n",
        "        self.assertEqual(dec_to_bin(255), \"00000000000000000000000011111111\")\n",
        "        self.assertEqual(dec_to_bin(0), \"00000000000000000000000000000000\")\n",
        "        \n",
        "    def test_decToBin_negative(self):\n",
        "        self.assertEqual(dec_to_bin(-5), \"11111111111111111111111111111011\")\n",
        "        self.assertEqual(dec_to_bin(-10), \"11111111111111111111111111110110\")\n",
        "\n",
        "res = unittest.main(argv=[''], verbosity=3, exit=False)\n",
        "assert len(res.result.failures) == 0"
      ]
    },
    {
      "cell_type": "markdown",
      "metadata": {
        "id": "vPDH4KcROAEl"
      },
      "source": [
        "## 4. Count number of bits to be flipped to convert a to b\n",
        "\n",
        "**Question**\n",
        "\n",
        "Given two numbers A and B. Write a program to count the number of bits needed to be flipped to convert A to B. \n",
        "\n",
        "```\n",
        "Input: \n",
        "a = 10\n",
        "b = 20\n",
        "\n",
        "Binary representation of a is 00001010\n",
        "Binary representation of b is 00010100\n",
        "We need to flip \"0101\" bits in a to make it b so we need \n",
        "to change 4 bits\n",
        "\n",
        "output: 4\n",
        "```\n"
      ]
    },
    {
      "cell_type": "code",
      "execution_count": 15,
      "metadata": {
        "id": "1C7rUZQrMr5m"
      },
      "outputs": [],
      "source": [
        "def count_bits(a: int, b: int) -> int:\n",
        "    \"\"\"\n",
        "    Count the number of bits that are different between two integers.\n",
        "\n",
        "    :param a: an integer\n",
        "    :param b: another integer\n",
        "    :return: the number of bits that differ between the two integers\n",
        "    \"\"\"\n",
        "    xor_result = a ^ b\n",
        "    count = 0\n",
        "    while xor_result:\n",
        "        count += xor_result & 1\n",
        "        xor_result >>= 1\n",
        "    return count\n",
        "\n"
      ]
    },
    {
      "cell_type": "markdown",
      "metadata": {
        "id": "XQQUO21G27OQ"
      },
      "source": [
        "**Explanation**\n",
        "\n",
        "The function starts by calculating the bitwise XOR of a and b using the `^` operator. This operation compares each bit of the two numbers and if the bits are different, the corresponding bit in the result is set to `1`, otherwise it is set to `0`. For example, if a is `5` (binary: `101`) and b is `3` (binary: `011`), the XOR result will be 6 (binary: `110`).\n",
        "\n",
        "The function then initializes a variable called `count` to 0. This variable will be used to keep track of the number of bits that differ between the two integers.\n",
        "\n",
        "Next, the function enters a while loop which continues until the `xor_result` is nonzero. Inside the loop, the function increments the `count` variable by `1` if the least significant bit (LSB) of the `xor_result` is 1. This can be achieved by using `xor_result & 1` to check the LSB. Then it will shift the xor_result to right by 1 bit to check the next bit.\n",
        "\n",
        "The time complexity of the above code is `O(n)`, where n is the number of bits that differ between the two integers. The while loop will continue until all the bits of the xor_result have been checked. If the two integers have k different bits, the loop will run k times, resulting in a time complexity of `O(k)`. Since `k <= n` , the time complexity is `O(n).`\n",
        "\n",
        "The space complexity of the above code is `O(1)`. The function only uses a single variable called count to keep track of the number of bits that differ between the two integers. This variable takes a constant amount of space, regardless of the size of the input integers. Therefore, the space complexity is `O(1)`.\n",
        "\n"
      ]
    },
    {
      "cell_type": "code",
      "execution_count": 16,
      "metadata": {
        "id": "lyfrCKsW27OQ",
        "outputId": "a19b6c88-7234-4f5f-e23e-efff322bf6b6",
        "colab": {
          "base_uri": "https://localhost:8080/"
        }
      },
      "outputs": [
        {
          "output_type": "stream",
          "name": "stderr",
          "text": [
            "test_CountBits (__main__.TestCountBits) ... ok\n",
            "test_decToBin (__main__.TestDecToBin) ... ok\n",
            "test_decToBin_negative (__main__.TestDecToBin) ... ok\n",
            "test_nth_magic_number (__main__.TestNthMagicNumber) ... ok\n",
            "test_swap_bits (__main__.TestSwapBits) ... ok\n",
            "\n",
            "----------------------------------------------------------------------\n",
            "Ran 5 tests in 0.012s\n",
            "\n",
            "OK\n"
          ]
        }
      ],
      "source": [
        "\n",
        "class TestCountBits(unittest.TestCase):\n",
        "    def test_CountBits(self):\n",
        "        self.assertEqual(count_bits(5, 3), 2)\n",
        "        self.assertEqual(count_bits(0, 0), 0)\n",
        "        self.assertEqual(count_bits(255, 0), 8)\n",
        "        self.assertEqual(count_bits(2**31-1, 2**31-1), 0)\n",
        "\n",
        "res = unittest.main(argv=[''], verbosity=3, exit=False)\n",
        "assert len(res.result.failures) == 0"
      ]
    }
  ],
  "metadata": {
    "colab": {
      "provenance": [],
      "toc_visible": true,
      "include_colab_link": true
    },
    "kernelspec": {
      "display_name": "base",
      "language": "python",
      "name": "python3"
    },
    "language_info": {
      "codemirror_mode": {
        "name": "ipython",
        "version": 3
      },
      "file_extension": ".py",
      "mimetype": "text/x-python",
      "name": "python",
      "nbconvert_exporter": "python",
      "pygments_lexer": "ipython3",
      "version": "3.8.8"
    },
    "vscode": {
      "interpreter": {
        "hash": "05655b172e02d0543f4689a9fd02cca4a7857b55ad1449565d55716c4230d5c1"
      }
    }
  },
  "nbformat": 4,
  "nbformat_minor": 0
}